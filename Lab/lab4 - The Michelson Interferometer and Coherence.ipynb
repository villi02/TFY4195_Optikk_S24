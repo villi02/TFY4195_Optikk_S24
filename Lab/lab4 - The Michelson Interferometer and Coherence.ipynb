{
 "cells": [
  {
   "cell_type": "code",
   "execution_count": 4,
   "metadata": {},
   "outputs": [
    {
     "name": "stderr",
     "output_type": "stream",
     "text": [
      "/var/folders/m1/0pv5jqcs6h34_x160t92550h0000gn/T/ipykernel_456/328324305.py:3: DeprecationWarning: \n",
      "Pyarrow will become a required dependency of pandas in the next major release of pandas (pandas 3.0),\n",
      "(to allow more performant data types, such as the Arrow string type, and better interoperability with other libraries)\n",
      "but was not found to be installed on your system.\n",
      "If this would cause problems for you,\n",
      "please provide us feedback at https://github.com/pandas-dev/pandas/issues/54466\n",
      "        \n",
      "  import pandas as pd\n"
     ]
    }
   ],
   "source": [
    "import numpy as np\n",
    "import matplotlib.pyplot as plt\n",
    "import pandas as pd"
   ]
  },
  {
   "cell_type": "markdown",
   "metadata": {},
   "source": [
    "## 4.2.1 - Expanding Laser Beams"
   ]
  },
  {
   "cell_type": "markdown",
   "metadata": {},
   "source": [
    "### 4.2.1.2 - basic expansion"
   ]
  },
  {
   "cell_type": "code",
   "execution_count": 22,
   "metadata": {},
   "outputs": [],
   "source": [
    "# measurements\n",
    "d_0 = [2.0*10e-3, 2.0*10e-3, 1.5*10e-3, 1.5*10e-3] # m\n",
    "lambda_laser_ = 532*10e-9 # m\n",
    "distance_laser_to_first_mirror = 58*10e-2 # m\n",
    "distance_first_mirror_to_second_mirror = 37.5*10e-2 # m\n",
    "distance_second_mirror_to_screen = [11.3*10e-2, 194*10e-2, 283.5*10-2, (135+84)*10e-2] # m this is z\n",
    "diameter_laser_spot = [0.5*10e-2, 1*10e-2, 1.2*10e-2, 1.4*10e-2] # m, this is d"
   ]
  },
  {
   "cell_type": "code",
   "execution_count": null,
   "metadata": {},
   "outputs": [],
   "source": []
  },
  {
   "cell_type": "code",
   "execution_count": 23,
   "metadata": {},
   "outputs": [],
   "source": [
    "def theta_from_z_and_d(z, d, d0):\n",
    "    return np.sqrt(np.power(d, 2) - np.power(d0, 2)) / z\n",
    "\n",
    "def divergence_theta(d0, lambda_laser):\n",
    "    return (4.0*lambda_laser)/(np.pi*d0)\n"
   ]
  },
  {
   "cell_type": "code",
   "execution_count": 29,
   "metadata": {},
   "outputs": [
    {
     "name": "stdout",
     "output_type": "stream",
     "text": [
      "divergence_theta: [0.0003374084793548181, 0.0003374084793548181, 0.0004498779724730909, 0.0004498779724730909]\n",
      "theta_angles: [0.0122202  0.02612789 0.03174902 0.03711843] (rad)\n"
     ]
    }
   ],
   "source": [
    "divergence_theta_ = [divergence_theta(d_0[i], lambda_laser_) for i in range(len(d_0))]\n",
    "print(f\"divergence_theta: {divergence_theta_}\")\n",
    "\n",
    "theta_angles = theta_from_z_and_d(distance_first_mirror_to_second_mirror, diameter_laser_spot, d_0)\n",
    "print(f\"theta_angles: {theta_angles} (rad)\")"
   ]
  },
  {
   "cell_type": "markdown",
   "metadata": {},
   "source": [
    "### 4.2.1.3 - The Galilean Beam Expander"
   ]
  },
  {
   "cell_type": "code",
   "execution_count": 2,
   "metadata": {},
   "outputs": [],
   "source": [
    "# measurements\n",
    "diameter_laser_spot_galileo = [2.5*10e-2, 1.8*10e-2, 1.4*10e-2, 1.5*10e-2, 1.6*10e-2] # m\n",
    "distance_second_mirror_to_screen_galileo = [0, 38.5*10e-2, 125*10e-2, (134.2+123)*10e-2, (194.5+134.2)*10e-2] # m"
   ]
  },
  {
   "cell_type": "code",
   "execution_count": null,
   "metadata": {},
   "outputs": [],
   "source": []
  },
  {
   "cell_type": "markdown",
   "metadata": {},
   "source": [
    "## 4.2.2 The Michelson Interferometer"
   ]
  },
  {
   "cell_type": "markdown",
   "metadata": {},
   "source": [
    "### 4.2.2.1 - Experiment"
   ]
  },
  {
   "cell_type": "markdown",
   "metadata": {},
   "source": [
    "Here we for the most part were only observing"
   ]
  },
  {
   "cell_type": "markdown",
   "metadata": {},
   "source": []
  }
 ],
 "metadata": {
  "kernelspec": {
   "display_name": ".venv",
   "language": "python",
   "name": "python3"
  },
  "language_info": {
   "codemirror_mode": {
    "name": "ipython",
    "version": 3
   },
   "file_extension": ".py",
   "mimetype": "text/x-python",
   "name": "python",
   "nbconvert_exporter": "python",
   "pygments_lexer": "ipython3",
   "version": "3.10.10"
  }
 },
 "nbformat": 4,
 "nbformat_minor": 2
}
