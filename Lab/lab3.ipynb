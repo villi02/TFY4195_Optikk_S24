{
 "cells": [
  {
   "cell_type": "code",
   "execution_count": 1,
   "metadata": {},
   "outputs": [
    {
     "name": "stderr",
     "output_type": "stream",
     "text": [
      "/var/folders/m1/0pv5jqcs6h34_x160t92550h0000gn/T/ipykernel_39640/328324305.py:3: DeprecationWarning: \n",
      "Pyarrow will become a required dependency of pandas in the next major release of pandas (pandas 3.0),\n",
      "(to allow more performant data types, such as the Arrow string type, and better interoperability with other libraries)\n",
      "but was not found to be installed on your system.\n",
      "If this would cause problems for you,\n",
      "please provide us feedback at https://github.com/pandas-dev/pandas/issues/54466\n",
      "        \n",
      "  import pandas as pd\n"
     ]
    }
   ],
   "source": [
    "import numpy as np\n",
    "import matplotlib.pyplot as plt\n",
    "import pandas as pd"
   ]
  },
  {
   "cell_type": "code",
   "execution_count": 11,
   "metadata": {},
   "outputs": [],
   "source": [
    "# methods\n",
    "\n",
    "# find the diameter of the pinhole\n",
    "def diameter_of_pinhole(l, theta):\n",
    "    return 1.22*l/np.sin(theta)\n",
    "\n"
   ]
  },
  {
   "cell_type": "markdown",
   "metadata": {},
   "source": [
    "## 3.1.1 - Fraunhofer diffraction of a circular aperture"
   ]
  },
  {
   "cell_type": "code",
   "execution_count": 25,
   "metadata": {},
   "outputs": [],
   "source": [
    "# Raw data\n",
    "\n",
    "diameter_of_circle = 2.4 * 10**-2 # m\n",
    "radius_dark_band = (2.8 * 10**-2)/2 # m\n",
    "distance_to_screen = 33 * 10**-2 # m\n",
    "wavelength_of_light = 532 * 10**-9 # m\n",
    "diameter_of_pinhole_ground_truth = 2.5 * 10**-5 # m\n",
    "thea_of_circle = np.arctan(radius_dark_band/distance_to_screen) # rad"
   ]
  },
  {
   "cell_type": "code",
   "execution_count": 26,
   "metadata": {},
   "outputs": [
    {
     "data": {
      "text/plain": [
       "0.042398817925939775"
      ]
     },
     "execution_count": 26,
     "metadata": {},
     "output_type": "execute_result"
    }
   ],
   "source": [
    "thea_of_circle"
   ]
  },
  {
   "cell_type": "code",
   "execution_count": 29,
   "metadata": {},
   "outputs": [
    {
     "name": "stdout",
     "output_type": "stream",
     "text": [
      "Diameter of pinhole calculated: 1.5312561325970262e-05 m\n",
      "Relative error: -0.38749754696118954\n"
     ]
    }
   ],
   "source": [
    "diameter_of_pinhole_calculated = diameter_of_pinhole(wavelength_of_light, thea_of_circle)\n",
    "relative_error = (diameter_of_pinhole_calculated - diameter_of_pinhole_ground_truth)/diameter_of_pinhole_ground_truth\n",
    "print(f\"Diameter of pinhole calculated: {diameter_of_pinhole_calculated} m\")\n",
    "print(f\"Relative error: {relative_error}\")"
   ]
  },
  {
   "cell_type": "code",
   "execution_count": 31,
   "metadata": {},
   "outputs": [],
   "source": [
    "measured_slit_circle_radius1 = (0.55 * 10**-2)/2 # m\n",
    "measured_slit_circle_radius2 = (1.05 * 10**-2)/2 # m\n",
    "distance_to_screen_slit1 = 121.5 * 10**-2 # m\n",
    "distance_to_screen_slit2 = 184 * 10**-2 # m"
   ]
  },
  {
   "cell_type": "code",
   "execution_count": 35,
   "metadata": {},
   "outputs": [
    {
     "name": "stdout",
     "output_type": "stream",
     "text": [
      "Diameter of pinhole calculated slit1: 0.28675840723662016\n",
      "Diameter of pinhole calculated slit2: 0.22747399260499956\n"
     ]
    }
   ],
   "source": [
    "thea_of_circle_slit1 = np.arctan(measured_slit_circle_radius1/distance_to_screen_slit1) # rad\n",
    "thea_of_circle_slit2 = np.arctan(measured_slit_circle_radius2/distance_to_screen_slit2) # rad\n",
    "\n",
    "diameter_of_pinhole_calculated_slit1 = diameter_of_pinhole(wavelength_of_light, thea_of_circle_slit1)\n",
    "diameter_of_pinhole_calculated_slit2 = diameter_of_pinhole(wavelength_of_light, thea_of_circle_slit2)\n",
    "\n",
    "print(f\"Diameter of pinhole calculated slit1: {diameter_of_pinhole_calculated_slit1*10**3}\")\n",
    "print(f\"Diameter of pinhole calculated slit2: {diameter_of_pinhole_calculated_slit2*10**3}\")"
   ]
  },
  {
   "cell_type": "markdown",
   "metadata": {},
   "source": [
    "## 3.4 - Single Slit Diffraction and Double Slit Interference"
   ]
  },
  {
   "cell_type": "code",
   "execution_count": 48,
   "metadata": {},
   "outputs": [],
   "source": [
    "def slit_width(m, l, theta):\n",
    "    return m*l/np.sin(theta)"
   ]
  },
  {
   "cell_type": "code",
   "execution_count": 52,
   "metadata": {},
   "outputs": [
    {
     "name": "stdout",
     "output_type": "stream",
     "text": [
      "Slit widths: [0.03428857 0.04208981 0.03657484] mm\n"
     ]
    }
   ],
   "source": [
    "distances_to_bottom = [1.35, 2.2, 3.8] # m\n",
    "scaled_distances = [x * (10**-2) for x in distances_to_bottom]\n",
    "distance_to_screen_young = 87 * (10**-2)  # m\n",
    "theta_array = np.arctan(np.array(scaled_distances) / distance_to_screen_young)\n",
    "\n",
    "# make array of slit widths for each m\n",
    "slit_width1 = slit_width(1, wavelength_of_light, theta_array[0])\n",
    "slit_width2 = slit_width(2, wavelength_of_light, theta_array[1])\n",
    "slit_width3 = slit_width(3, wavelength_of_light, theta_array[2])\n",
    "slit_widths = np.array([slit_width1, slit_width2, slit_width3])\n",
    "\n",
    "print(f\"Slit widths: {slit_widths*10**3} mm\")"
   ]
  },
  {
   "cell_type": "markdown",
   "metadata": {},
   "source": [
    "## 3.4.2 - Double Slit Diffraction and Double Slit Interference"
   ]
  },
  {
   "cell_type": "code",
   "execution_count": 53,
   "metadata": {},
   "outputs": [
    {
     "name": "stdout",
     "output_type": "stream",
     "text": [
      "Distance between slits: 0.3192 mm\n"
     ]
    }
   ],
   "source": [
    "distance_to_first_minima = 1.00 * 10**-2 # m\n",
    "amount_of_local_minimums = 6\n",
    "average_seperations =  distance_to_first_minima/amount_of_local_minimums\n",
    "\n",
    "def find_distance_between_slits(l, delta_theta):\n",
    "    return l/(delta_theta)\n",
    "\n",
    "distance_between_slits = find_distance_between_slits(wavelength_of_light, average_seperations)\n",
    "print(f\"Distance between slits: {distance_between_slits*10**3} mm\")\n"
   ]
  },
  {
   "cell_type": "code",
   "execution_count": null,
   "metadata": {},
   "outputs": [],
   "source": []
  }
 ],
 "metadata": {
  "kernelspec": {
   "display_name": ".venv",
   "language": "python",
   "name": "python3"
  },
  "language_info": {
   "codemirror_mode": {
    "name": "ipython",
    "version": 3
   },
   "file_extension": ".py",
   "mimetype": "text/x-python",
   "name": "python",
   "nbconvert_exporter": "python",
   "pygments_lexer": "ipython3",
   "version": "3.10.10"
  }
 },
 "nbformat": 4,
 "nbformat_minor": 2
}
