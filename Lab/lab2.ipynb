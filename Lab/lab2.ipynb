{
 "cells": [
  {
   "cell_type": "code",
   "execution_count": 10,
   "metadata": {},
   "outputs": [],
   "source": [
    "import numpy as np\n",
    "import matplotlib.pyplot as plt\n",
    "import pandas as pd"
   ]
  },
  {
   "cell_type": "code",
   "execution_count": 11,
   "metadata": {},
   "outputs": [],
   "source": [
    "# Define constants\n",
    "f_0 = 100 # mm\n"
   ]
  },
  {
   "cell_type": "code",
   "execution_count": 12,
   "metadata": {},
   "outputs": [],
   "source": [
    "# Define methods\n",
    "\n",
    "# Find the focal length of the lens\n",
    "def find_focal_length(si, so):\n",
    "    return ((1 / si) + (1 / so)) ** -1\n",
    "\n",
    "def find_focal_length_uncertainty(si, so, si_uncertainty, so_uncertainty):\n",
    "    return np.sqrt((si_uncertainty / (si ** 2)) ** 2 + (so_uncertainty / (so ** 2)) ** 2)\n",
    "\n",
    "# Find the magnification of the lens\n",
    "def find_magnification(si, so):\n",
    "    return -si / so\n",
    "\n",
    "def find_magnification_height(hi, ho):\n",
    "    return hi / ho\n",
    "\n",
    "def find_magnification_uncertainty(si, so, si_uncertainty, so_uncertainty):\n",
    "    return np.sqrt((so_uncertainty / so) ** 2 + (si_uncertainty / si) ** 2)\n",
    "\n",
    "# Find the image distance\n",
    "def find_image_distance(f, so):\n",
    "    return (1 / f - 1 / so) ** -1\n"
   ]
  },
  {
   "cell_type": "markdown",
   "metadata": {},
   "source": [
    "# 2.2"
   ]
  },
  {
   "cell_type": "code",
   "execution_count": 13,
   "metadata": {},
   "outputs": [],
   "source": [
    "# Meaurements\n",
    "\n",
    "s0 = np.array([125, 150, 200, 395, 575]) ## mm\n",
    "s1 = np.array([491, 300, 196, 131, 117]) ## mm\n",
    "\n",
    "Distance_between_dots_board = np.array([43.5, 20.5, 11, 9, 8]) # mm\n",
    "distance_between_dots_original_image = np.array([10, 10, 10, 32, 64]) # mm\n",
    "\n",
    "\n",
    "si_uncertainty = 2 # mm\n",
    "so_uncertainty = 2 # mm\n",
    "distance_dots_uncertainty = 0.5 # mm\n",
    "distance_image = 0.5 # mm\n"
   ]
  },
  {
   "cell_type": "code",
   "execution_count": 14,
   "metadata": {},
   "outputs": [
    {
     "name": "stdout",
     "output_type": "stream",
     "text": [
      "Focal length: [ 99.63474026 100.          98.98989899  98.37452471  97.21820809]\n",
      "Average focal length: 98.84347441139074\n"
     ]
    }
   ],
   "source": [
    "# Calculate focal length\n",
    "f = find_focal_length(s0, s1)\n",
    "\n",
    "# F average\n",
    "f_avg = np.mean(f)\n",
    "\n",
    "print(f\"Focal length: {f}\")\n",
    "print(f\"Average focal length: {f_avg}\")"
   ]
  },
  {
   "cell_type": "code",
   "execution_count": 17,
   "metadata": {},
   "outputs": [
    {
     "name": "stdout",
     "output_type": "stream",
     "text": [
      "Magnification with s: [-3.928      -2.         -0.98       -0.33164557 -0.20347826]\n",
      "Magnification with h: [4.35    2.05    1.1     0.28125 0.125  ]\n",
      "relative difference: [1.10743381 1.025      1.12244898 0.84804389 0.61431624]\n"
     ]
    }
   ],
   "source": [
    "# Calculate magnification\n",
    "\n",
    "m_s = find_magnification(s1, s0) # s\n",
    "m_h = find_magnification_height(Distance_between_dots_board, distance_between_dots_original_image) # h\n",
    "\n",
    "print(f\"Magnification with s: {m_s}\")\n",
    "print(f\"Magnification with h: {m_h}\")\n",
    "\n",
    "print(f\"relative difference: {np.abs(m_h / m_s)}\")\n"
   ]
  },
  {
   "cell_type": "markdown",
   "metadata": {},
   "source": [
    "# 2.3"
   ]
  },
  {
   "cell_type": "code",
   "execution_count": null,
   "metadata": {},
   "outputs": [],
   "source": []
  }
 ],
 "metadata": {
  "kernelspec": {
   "display_name": ".venv",
   "language": "python",
   "name": "python3"
  },
  "language_info": {
   "codemirror_mode": {
    "name": "ipython",
    "version": 3
   },
   "file_extension": ".py",
   "mimetype": "text/x-python",
   "name": "python",
   "nbconvert_exporter": "python",
   "pygments_lexer": "ipython3",
   "version": "3.10.10"
  }
 },
 "nbformat": 4,
 "nbformat_minor": 2
}
