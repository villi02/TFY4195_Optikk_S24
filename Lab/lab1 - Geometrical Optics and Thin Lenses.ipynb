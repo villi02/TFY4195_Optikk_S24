{
 "cells": [
  {
   "cell_type": "code",
   "execution_count": 1,
   "metadata": {},
   "outputs": [
    {
     "name": "stderr",
     "output_type": "stream",
     "text": [
      "/var/folders/m1/0pv5jqcs6h34_x160t92550h0000gn/T/ipykernel_59251/1015374048.py:3: DeprecationWarning: \n",
      "Pyarrow will become a required dependency of pandas in the next major release of pandas (pandas 3.0),\n",
      "(to allow more performant data types, such as the Arrow string type, and better interoperability with other libraries)\n",
      "but was not found to be installed on your system.\n",
      "If this would cause problems for you,\n",
      "please provide us feedback at https://github.com/pandas-dev/pandas/issues/54466\n",
      "        \n",
      "  import pandas as pd\n"
     ]
    }
   ],
   "source": [
    "import numpy as np\n",
    "import matplotlib.pyplot as plt\n",
    "import pandas as pd\n",
    "import seaborn as sns\n"
   ]
  },
  {
   "cell_type": "markdown",
   "metadata": {},
   "source": [
    "# 1.3 - Law of reflection"
   ]
  },
  {
   "cell_type": "code",
   "execution_count": 2,
   "metadata": {},
   "outputs": [],
   "source": [
    "# Constants\n",
    "\n",
    "L_laser_to_mirror = 45*10**(-2) # m\n",
    "L_laser_to_wall = 48 * 10**(-2) # m\n",
    "\n",
    "theta_laser_mirror_wall = 45 # degrees\n",
    "theta_mirror_wall_laser = 45 # degrees\n",
    "theta_wall_laser_mirror = 90 # degrees\n",
    "theta_0 = 0 # degrees\n",
    "\n",
    "Angle_measurement_error = 2 # degrees\n",
    "Distance_measurement_error = 1 * 10**(-2) # m"
   ]
  },
  {
   "cell_type": "markdown",
   "metadata": {},
   "source": [
    "#### Measurements"
   ]
  },
  {
   "cell_type": "code",
   "execution_count": 3,
   "metadata": {},
   "outputs": [],
   "source": [
    "# Measured data\n",
    "\n",
    "measured_y_mirror = 48 * 10**(-2) # m\n",
    "angels_measured = [23, 25, 26, 27, 28, 28, 29] # degrees\n",
    "#measured_distance_katet_mirror_wall = [45, 40, 38, 36, 34, 32, 30] * 10**(-2) # m\n",
    "measured_distance_katet_mirror_wall = [x * 10**(-2) for x in [45, 40, 38, 36, 34, 32, 30]]\n",
    "\n"
   ]
  },
  {
   "cell_type": "markdown",
   "metadata": {},
   "source": [
    "#### Analysis"
   ]
  },
  {
   "cell_type": "code",
   "execution_count": 4,
   "metadata": {},
   "outputs": [
    {
     "data": {
      "text/plain": [
       "[<matplotlib.lines.Line2D at 0x280404370>]"
      ]
     },
     "execution_count": 4,
     "metadata": {},
     "output_type": "execute_result"
    },
    {
     "data": {
      "image/png": "[encoded data removed]",
      "text/plain": [
       "<Figure size 640x480 with 1 Axes>"
      ]
     },
     "metadata": {},
     "output_type": "display_data"
    }
   ],
   "source": [
    "# Plot reflected angle to incident angles \n",
    "\n",
    "incident_angles = np.array(angels_measured)\n",
    "\n",
    "measured_distance_katet_mirror_wall_array = np.array(measured_distance_katet_mirror_wall)\n",
    "reflected_angles = (np.arctan(measured_y_mirror / measured_distance_katet_mirror_wall_array) * 180 / np.pi)/ angels_measured\n",
    "plt.plot(incident_angles, reflected_angles, 'o')"
   ]
  },
  {
   "cell_type": "markdown",
   "metadata": {},
   "source": [
    "Here we see that it is very close to the desired answer of 2"
   ]
  },
  {
   "cell_type": "markdown",
   "metadata": {},
   "source": [
    "# 1.4 - Law of reflection"
   ]
  },
  {
   "cell_type": "code",
   "execution_count": 5,
   "metadata": {},
   "outputs": [
    {
     "name": "stdout",
     "output_type": "stream",
     "text": [
      "measured angle: 40 degrees\n",
      "calculated angle 41.155982346658426 degrees\n"
     ]
    }
   ],
   "source": [
    "angle_measured_no_TIR = 40 # degrees\n",
    "calculated_no_TIR = np.arcsin(1/1.5195)\n",
    "\n",
    "print(f\"measured angle: {angle_measured_no_TIR} degrees\\ncalculated angle {calculated_no_TIR * 180 / np.pi} degrees\")"
   ]
  },
  {
   "cell_type": "markdown",
   "metadata": {},
   "source": [
    "Vertification of Snell's law\n",
    "\n",
    "$\\delta$ was calculated by measuring the angle between the direction of the laser before and after refraction. Then we used the equation defined underneath as calculate_snell_angle to calculate the measured and theoretical value of $\\delta$"
   ]
  },
  {
   "cell_type": "code",
   "execution_count": 16,
   "metadata": {},
   "outputs": [
    {
     "name": "stdout",
     "output_type": "stream",
     "text": [
      "Alpha: 10, Delta Measured: 71.07 degrees, Delta Calculated: 70.84280660063425 degrees, Error: 0.22719339936574556 degrees\n",
      "Alpha: 15, Delta Measured: 62.89 degrees, Delta Calculated: 61.13206998398698 degrees, Error: 1.7579300160130202 degrees\n",
      "Alpha: 20, Delta Measured: 54.56 degrees, Delta Calculated: 53.61335874782601 degrees, Error: 0.9466412521739898 degrees\n",
      "Alpha: 25, Delta Measured: 48.19 degrees, Delta Calculated: 47.1568970537532 degrees, Error: 1.0331029462467995 degrees\n",
      "Alpha: 30, Delta Measured: 42.3 degrees, Delta Calculated: 41.380756798465136 degrees, Error: 0.9192432015348615 degrees\n"
     ]
    }
   ],
   "source": [
    "\n",
    "def calculate_snell_angle(n1, theta1):\n",
    "    return np.arcsin(n1 * np.sin(degrees_45-np.arcsin(np.sin(theta1)/n1)))\n",
    "\n",
    "def print_radians_as_degrees(radians):\n",
    "    return radians * 180 / np.pi\n",
    "\n",
    "degrees_45 = 45 * np.pi / 180\n",
    "n1 = 1.5195\n",
    "\n",
    "angles_measured_snell = np.array([36.07, 32.89, 29.56, 28.19, 27.30])\n",
    "alpha_snell = np.array([10, 15, 20, 25, 30])\n",
    "deg_45_list = np.array([45] * len(angles_measured_snell))\n",
    "\n",
    "delta_measured_deg = angles_measured_snell + deg_45_list - alpha_snell\n",
    "\n",
    "delta_measured_rad = delta_measured_deg * np.pi / 180\n",
    "\n",
    "delta_numerical = calculate_snell_angle(n1, np.radians(alpha_snell))\n",
    "\n",
    "error_ = delta_measured_deg - print_radians_as_degrees(delta_numerical)\n",
    "\n",
    "for i in range(len(alpha_snell)):\n",
    "    print(f\"Alpha: {alpha_snell[i]}, Delta Measured: {delta_measured_deg[i]} degrees, Delta Calculated: {print_radians_as_degrees(delta_numerical[i])} degrees, Error: {error_[i]} degrees\")\n"
   ]
  },
  {
   "cell_type": "code",
   "execution_count": null,
   "metadata": {},
   "outputs": [],
   "source": []
  }
 ],
 "metadata": {
  "kernelspec": {
   "display_name": "venv",
   "language": "python",
   "name": "python3"
  },
  "language_info": {
   "codemirror_mode": {
    "name": "ipython",
    "version": 3
   },
   "file_extension": ".py",
   "mimetype": "text/x-python",
   "name": "python",
   "nbconvert_exporter": "python",
   "pygments_lexer": "ipython3",
   "version": "3.10.10"
  }
 },
 "nbformat": 4,
 "nbformat_minor": 2
}
